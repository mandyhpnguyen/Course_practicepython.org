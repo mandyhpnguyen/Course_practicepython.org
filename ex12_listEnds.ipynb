{
 "cells": [
  {
   "cell_type": "markdown",
   "metadata": {
    "collapsed": true,
    "pycharm": {
     "name": "#%% md\n"
    }
   },
   "source": [
    "# 12. List Ends\n",
    "\n",
    "- [Exercise Source](https://www.practicepython.org/exercise/2014/04/25/12-list-ends.html)\n",
    "- [Exercise Source](https://www.practicepython.org/solution/2014/05/15/12-list-ends-solutions.html)"
   ]
  },
  {
   "cell_type": "markdown",
   "source": [
    "## 12.1. Exercise\n",
    "\n",
    "Write a program that takes a list of numbers (for example, a = [5, 10, 15, 20, 25]) and makes a new list of only the first and last elements of the given list.\n",
    "\n",
    "For practice, write this code inside a function."
   ],
   "metadata": {
    "collapsed": false,
    "pycharm": {
     "name": "#%% md\n"
    }
   }
  },
  {
   "cell_type": "markdown",
   "source": [
    "## 12.2. MY Solution"
   ],
   "metadata": {
    "collapsed": false,
    "pycharm": {
     "name": "#%% md\n"
    }
   }
  },
  {
   "cell_type": "code",
   "execution_count": 20,
   "outputs": [
    {
     "name": "stdout",
     "output_type": "stream",
     "text": [
      "Your list: [3, 2, 3, 56, 90]\n",
      "Your new list: [3, 90]\n"
     ]
    }
   ],
   "source": [
    "def make_newList():\n",
    "    inputList = list(map(int, input(\"Enter your list separated by \\\", \\\": \").split(\", \")))\n",
    "    print(f\"Your list: {inputList}\")\n",
    "    newList = [inputList[0], inputList[len(inputList)-1]] # [inputList[0], inputList[-1]]\n",
    "    print(f\"Your new list: {newList}\")\n",
    "\n",
    "make_newList()"
   ],
   "metadata": {
    "collapsed": false,
    "pycharm": {
     "name": "#%%\n"
    }
   }
  },
  {
   "cell_type": "markdown",
   "source": [
    "## 12.3. Suggested Solution"
   ],
   "metadata": {
    "collapsed": false,
    "pycharm": {
     "name": "#%% md\n"
    }
   }
  },
  {
   "cell_type": "code",
   "execution_count": 17,
   "outputs": [
    {
     "ename": "TypeError",
     "evalue": "list_ends() missing 1 required positional argument: 'a_list'",
     "output_type": "error",
     "traceback": [
      "\u001B[0;31m-----------------------------------------------------------\u001B[0m",
      "\u001B[0;31mTypeError\u001B[0m                 Traceback (most recent call last)",
      "\u001B[0;32m<ipython-input-17-ce9a45d5e230>\u001B[0m in \u001B[0;36m<module>\u001B[0;34m\u001B[0m\n\u001B[1;32m      4\u001B[0m     \u001B[0;32mreturn\u001B[0m \u001B[0;34m[\u001B[0m\u001B[0ma_list\u001B[0m\u001B[0;34m[\u001B[0m\u001B[0;36m0\u001B[0m\u001B[0;34m]\u001B[0m\u001B[0;34m,\u001B[0m \u001B[0ma_list\u001B[0m\u001B[0;34m[\u001B[0m\u001B[0mlen\u001B[0m\u001B[0;34m(\u001B[0m\u001B[0ma_list\u001B[0m\u001B[0;34m)\u001B[0m\u001B[0;34m-\u001B[0m\u001B[0;36m1\u001B[0m\u001B[0;34m]\u001B[0m\u001B[0;34m]\u001B[0m\u001B[0;34m\u001B[0m\u001B[0;34m\u001B[0m\u001B[0m\n\u001B[1;32m      5\u001B[0m \u001B[0;34m\u001B[0m\u001B[0m\n\u001B[0;32m----> 6\u001B[0;31m \u001B[0mlist_ends\u001B[0m\u001B[0;34m(\u001B[0m\u001B[0;34m)\u001B[0m\u001B[0;34m\u001B[0m\u001B[0;34m\u001B[0m\u001B[0m\n\u001B[0m",
      "\u001B[0;31mTypeError\u001B[0m: list_ends() missing 1 required positional argument: 'a_list'"
     ]
    }
   ],
   "source": [
    "def list_ends(a_list):\n",
    "    return [a_list[0], a_list[len(a_list)-1]]"
   ],
   "metadata": {
    "collapsed": false,
    "pycharm": {
     "name": "#%%\n"
    }
   }
  }
 ],
 "metadata": {
  "kernelspec": {
   "display_name": "Python 3",
   "language": "python",
   "name": "python3"
  },
  "language_info": {
   "codemirror_mode": {
    "name": "ipython",
    "version": 2
   },
   "file_extension": ".py",
   "mimetype": "text/x-python",
   "name": "python",
   "nbconvert_exporter": "python",
   "pygments_lexer": "ipython2",
   "version": "2.7.6"
  }
 },
 "nbformat": 4,
 "nbformat_minor": 0
}