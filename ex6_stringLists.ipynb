{
 "cells": [
  {
   "cell_type": "markdown",
   "metadata": {
    "collapsed": true,
    "pycharm": {
     "name": "#%% md\n"
    }
   },
   "source": [
    "# 6. String Lists\n",
    "- [Exercise Source](https://www.practicepython.org/exercise/2014/03/12/06-string-lists.html)\n",
    "- [Suggested Solution](https://www.practicepython.org/solution/2014/03/19/06-string-lists-solutions.html)"
   ]
  },
  {
   "cell_type": "markdown",
   "source": [
    "## 6.1. Exercise\n",
    "\n",
    "Ask the user for a string and print out whether this string is a palindrome or not.\n",
    "(A palindrome is a string that reads the same forwards and backwards.)\n",
    "\n",
    "*Note:*\n",
    "Samples of palindrome words:\n",
    "\n",
    "**redivider, deified, civic, radar, level, rotor, kayak, reviver, racecar, madam, and refer**"
   ],
   "metadata": {
    "collapsed": false,
    "pycharm": {
     "name": "#%% md\n"
    }
   }
  },
  {
   "cell_type": "markdown",
   "source": [
    "## 6.2. MY Solution"
   ],
   "metadata": {
    "collapsed": false,
    "pycharm": {
     "name": "#%% md\n"
    }
   }
  },
  {
   "cell_type": "code",
   "execution_count": 62,
   "outputs": [
    {
     "name": "stdout",
     "output_type": "stream",
     "text": [
      "Palindrome!!\n"
     ]
    }
   ],
   "source": [
    "# strInput = input(\"Enter Your Word: \")\n",
    "strInput = input(\"Enter your test word: \")\n",
    "newStr = strInput.lower().strip().replace(\" \", \"\")\n",
    "reversedStr = newStr[::-1]\n",
    "if newStr == reversedStr:\n",
    "    print(\"Palindrome!!\")\n",
    "else:\n",
    "    print(\"NOT Palindrome!!\")"
   ],
   "metadata": {
    "collapsed": false,
    "pycharm": {
     "name": "#%%\n"
    }
   }
  },
  {
   "cell_type": "markdown",
   "source": [
    "## 6.3. Suggested Solution"
   ],
   "metadata": {
    "collapsed": false,
    "pycharm": {
     "name": "#%% md\n"
    }
   }
  },
  {
   "cell_type": "code",
   "execution_count": 63,
   "outputs": [
    {
     "name": "stdout",
     "output_type": "stream",
     "text": [
      "civic\n",
      "This word is a palindrome\n"
     ]
    }
   ],
   "source": [
    "wrd=input(\"Please enter a word\")\n",
    "wrd=str(wrd)\n",
    "rvs=wrd[::-1]\n",
    "print(rvs)\n",
    "if wrd == rvs:\n",
    "    print(\"This word is a palindrome\")\n",
    "else:\n",
    "    print(\"This word is not a palindrome\")"
   ],
   "metadata": {
    "collapsed": false,
    "pycharm": {
     "name": "#%%\n"
    }
   }
  },
  {
   "cell_type": "code",
   "execution_count": 64,
   "outputs": [
    {
     "name": "stdout",
     "output_type": "stream",
     "text": [
      "This is a Palindrome\n"
     ]
    }
   ],
   "source": [
    "def reverse(word):\n",
    "\tx = ''\n",
    "\tfor i in range(len(word)):\n",
    "\t\tx += word[len(word)-1-i]\n",
    "\treturn x\n",
    "\n",
    "word = input('give me a word:\\n')\n",
    "x = reverse(word)\n",
    "if x == word:\n",
    "\tprint('This is a Palindrome')\n",
    "else:\n",
    "\tprint('This is NOT a Palindrome')"
   ],
   "metadata": {
    "collapsed": false,
    "pycharm": {
     "name": "#%%\n"
    }
   }
  }
 ],
 "metadata": {
  "kernelspec": {
   "display_name": "Python 3",
   "language": "python",
   "name": "python3"
  },
  "language_info": {
   "codemirror_mode": {
    "name": "ipython",
    "version": 2
   },
   "file_extension": ".py",
   "mimetype": "text/x-python",
   "name": "python",
   "nbconvert_exporter": "python",
   "pygments_lexer": "ipython2",
   "version": "2.7.6"
  }
 },
 "nbformat": 4,
 "nbformat_minor": 0
}