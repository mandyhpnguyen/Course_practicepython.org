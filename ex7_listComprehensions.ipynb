{
 "cells": [
  {
   "cell_type": "markdown",
   "metadata": {
    "collapsed": true,
    "pycharm": {
     "name": "#%% md\n"
    }
   },
   "source": [
    "# 7. List Comprehensions\n",
    "- [Exercise Source](https://www.practicepython.org/exercise/2014/03/19/07-list-comprehensions.html)\n",
    "- [Suggested Solution](https://www.practicepython.org/solution/2014/03/26/07-list-comprehensions-solutions.html)"
   ]
  },
  {
   "cell_type": "markdown",
   "source": [
    "## 7.1. Exercise\n",
    "\n",
    "Let’s say I give you a list saved in a variable:\n",
    "> a = [1, 4, 9, 16, 25, 36, 49, 64, 81, 100].\n",
    "\n",
    "Write one line of Python that takes this list a and makes a new list that has only the even elements of\n",
    "this list in it."
   ],
   "metadata": {
    "collapsed": false,
    "pycharm": {
     "name": "#%% md\n"
    }
   }
  },
  {
   "cell_type": "markdown",
   "source": [
    "## 7.2. MY Solution"
   ],
   "metadata": {
    "collapsed": false,
    "pycharm": {
     "name": "#%% md\n"
    }
   }
  },
  {
   "cell_type": "code",
   "execution_count": 3,
   "outputs": [],
   "source": [
    "listInput = [1, 4, 9, 16, 25, 36, 49, 64, 81, 100]"
   ],
   "metadata": {
    "collapsed": false,
    "pycharm": {
     "name": "#%%\n"
    }
   }
  },
  {
   "cell_type": "code",
   "execution_count": 12,
   "outputs": [
    {
     "name": "stdout",
     "output_type": "stream",
     "text": [
      "[4, 16, 36, 64, 100]\n"
     ]
    }
   ],
   "source": [
    "# Method 1: For loops\n",
    "newList = []\n",
    "\n",
    "for i in range(len(listInput)):\n",
    "    if listInput[i]%2 == 0:\n",
    "        newList.append(listInput[i])\n",
    "    i += 1\n",
    "\n",
    "print(newList)"
   ],
   "metadata": {
    "collapsed": false,
    "pycharm": {
     "name": "#%%\n"
    }
   }
  },
  {
   "cell_type": "code",
   "execution_count": 29,
   "outputs": [
    {
     "name": "stdout",
     "output_type": "stream",
     "text": [
      "Your List of Even numbers: 4, 16, 36, 64, 100\n"
     ]
    }
   ],
   "source": [
    "newList = [str(num) for num in listInput if num%2 == 0]\n",
    "print(\"Your List of Even numbers: {}\".format(\", \".join(newList)))"
   ],
   "metadata": {
    "collapsed": false,
    "pycharm": {
     "name": "#%%\n"
    }
   }
  },
  {
   "cell_type": "markdown",
   "source": [
    "## 7.3. Suggested Solution"
   ],
   "metadata": {
    "collapsed": false,
    "pycharm": {
     "name": "#%% md\n"
    }
   }
  },
  {
   "cell_type": "code",
   "execution_count": 30,
   "outputs": [
    {
     "name": "stdout",
     "output_type": "stream",
     "text": [
      "[4, 16, 36, 64, 100]\n"
     ]
    }
   ],
   "source": [
    "__author__ = 'jhunt'\n",
    "\n",
    "a = [1, 4, 9, 16, 25, 36, 49, 64, 81, 100]\n",
    "b = [number for number in a if number % 2 == 0]\n",
    "\n",
    "print(b)"
   ],
   "metadata": {
    "collapsed": false,
    "pycharm": {
     "name": "#%%\n"
    }
   }
  },
  {
   "cell_type": "markdown",
   "source": [
    "## 7.4. Discussion\n",
    "\n",
    "### LIST COMPREHENSION"
   ],
   "metadata": {
    "collapsed": false,
    "pycharm": {
     "name": "#%% md\n"
    }
   }
  },
  {
   "cell_type": "markdown",
   "source": [
    "The idea of a list comprehension is to make code more compact to accomplish tasks involving lists.\n",
    "Take for example this code:"
   ],
   "metadata": {
    "collapsed": false,
    "pycharm": {
     "name": "#%% md\n"
    }
   }
  },
  {
   "cell_type": "code",
   "execution_count": 8,
   "outputs": [
    {
     "name": "stdout",
     "output_type": "stream",
     "text": [
      "[1990, 1991, 1990, 1990, 1992, 1991]\n",
      "[24, 23, 24, 24, 22, 23]\n"
     ]
    }
   ],
   "source": [
    "years_of_birth = [1990, 1991, 1990, 1990, 1992, 1991]\n",
    "ages = []\n",
    "for year in years_of_birth:\n",
    "    ages.append(2014 - year)\n",
    "print(str(years_of_birth) + \"\\n\" + str(ages))"
   ],
   "metadata": {
    "collapsed": false,
    "pycharm": {
     "name": "#%%\n"
    }
   }
  },
  {
   "cell_type": "markdown",
   "source": [
    "And at the end, the variable ages has the list [24, 23, 24, 24, 22, 23].\n",
    "What this code did was translate the years of birth into ages, and it took us a for loop and an append statement to a new list to do that.\n",
    "\n",
    "Compare to this piece of code:"
   ],
   "metadata": {
    "collapsed": false,
    "pycharm": {
     "name": "#%% md\n"
    }
   }
  },
  {
   "cell_type": "code",
   "execution_count": 9,
   "outputs": [
    {
     "name": "stdout",
     "output_type": "stream",
     "text": [
      "[1990, 1991, 1990, 1990, 1992, 1991]\n",
      "[24, 23, 24, 24, 22, 23]\n"
     ]
    }
   ],
   "source": [
    "years_of_birth = [1990, 1991, 1990, 1990, 1992, 1991]\n",
    "ages = [2014 - year for year in years_of_birth]\n",
    "print(str(years_of_birth) + \"\\n\" + str(ages))"
   ],
   "metadata": {
    "collapsed": false,
    "pycharm": {
     "name": "#%%\n"
    }
   }
  }
 ],
 "metadata": {
  "kernelspec": {
   "display_name": "Python 3",
   "language": "python",
   "name": "python3"
  },
  "language_info": {
   "codemirror_mode": {
    "name": "ipython",
    "version": 2
   },
   "file_extension": ".py",
   "mimetype": "text/x-python",
   "name": "python",
   "nbconvert_exporter": "python",
   "pygments_lexer": "ipython2",
   "version": "2.7.6"
  }
 },
 "nbformat": 4,
 "nbformat_minor": 0
}