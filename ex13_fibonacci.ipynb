{
 "cells": [
  {
   "cell_type": "markdown",
   "metadata": {
    "collapsed": true,
    "pycharm": {
     "name": "#%% md\n"
    }
   },
   "source": [
    "# 13. Fibonacci\n",
    "\n",
    "- [Exercise Source](https://www.practicepython.org/exercise/2014/04/30/13-fibonacci.html)\n",
    "- [Suggested Solution](https://www.practicepython.org/solution/2014/07/25/13-fibonacci-solutions.html)"
   ]
  },
  {
   "cell_type": "markdown",
   "source": [
    "## 13.1. Exercise\n",
    "\n",
    "Write a program that asks the user how many Fibonnaci numbers to generate and then generates them.\n",
    "Take this opportunity to think about how you can use functions.\n",
    "Make sure to ask the user to enter the number of numbers in the sequence to generate.\n",
    "\n",
    "*(Hint: The Fibonnaci seqence is a sequence of numbers where the next number in the sequence is the sum of\n",
    "the previous two numbers in the sequence. The sequence looks like this: 1, 1, 2, 3, 5, 8, 13, …)*"
   ],
   "metadata": {
    "collapsed": false,
    "pycharm": {
     "name": "#%% md\n"
    }
   }
  },
  {
   "cell_type": "markdown",
   "source": [
    "## 13.2. MY Solution"
   ],
   "metadata": {
    "collapsed": false,
    "pycharm": {
     "name": "#%% md\n"
    }
   }
  },
  {
   "cell_type": "code",
   "execution_count": 21,
   "outputs": [
    {
     "name": "stdout",
     "output_type": "stream",
     "text": [
      "Here is your Fibonnac:\n",
      "[1, 1, 2, 3, 5, 8, 13]\n",
      "End of Program!!\n"
     ]
    }
   ],
   "source": [
    "def make_Fibonacci_list():\n",
    "    sequenceCount = int(input(\"Enter the number of your Fibonnaci sequence: \"))\n",
    "    fibonacciList = [1]\n",
    "    newItem = 1\n",
    "\n",
    "    if sequenceCount > 0:\n",
    "        for i in range(sequenceCount-1):\n",
    "            fibonacciList.append(newItem)\n",
    "            newItem = fibonacciList[len(fibonacciList)-1] + fibonacciList[len(fibonacciList)-2]\n",
    "        print(f\"Here is your Fibonnac:\\n{fibonacciList}\")\n",
    "        print(\"End of Program!!\")\n",
    "\n",
    "    else:\n",
    "        print(\"End of Program!!\")\n",
    "\n",
    "make_Fibonacci_list()"
   ],
   "metadata": {
    "collapsed": false,
    "pycharm": {
     "name": "#%%\n"
    }
   }
  },
  {
   "cell_type": "markdown",
   "source": [
    "## 13.3. Suggested Solution"
   ],
   "metadata": {
    "collapsed": false,
    "pycharm": {
     "name": "#%% md\n"
    }
   }
  },
  {
   "cell_type": "code",
   "execution_count": 24,
   "outputs": [
    {
     "data": {
      "text/plain": "[1, 1, 2, 3, 5, 8, 13, 21, 34, 55]"
     },
     "execution_count": 24,
     "metadata": {},
     "output_type": "execute_result"
    }
   ],
   "source": [
    "def gen_fib():\n",
    "    count = int(input(\"How many fibonacci numbers would you like to generate? \"))\n",
    "    i = 1\n",
    "    if count == 0:\n",
    "        fib = []\n",
    "    elif count == 1:\n",
    "        fib = [1]\n",
    "    elif count == 2:\n",
    "        fib = [1,1]\n",
    "    elif count > 2:\n",
    "        fib = [1,1]\n",
    "        while i < (count - 1):\n",
    "            fib.append(fib[i] + fib[i-1])\n",
    "            i += 1\n",
    "    return fib\n",
    "\n",
    "gen_fib()"
   ],
   "metadata": {
    "collapsed": false,
    "pycharm": {
     "name": "#%%\n"
    }
   }
  },
  {
   "cell_type": "code",
   "execution_count": 26,
   "outputs": [
    {
     "name": "stdout",
     "output_type": "stream",
     "text": [
      "[1, 1]\n"
     ]
    }
   ],
   "source": [
    "def fibonacci():\n",
    "    num = int(input(\"How many numbers that generates?: \"))\n",
    "    i = 1\n",
    "    if num == 0:\n",
    "        fib = []\n",
    "    elif num == 1:\n",
    "        fib = [1]\n",
    "    elif num == 2:\n",
    "        fib = [1,1]\n",
    "    elif num > 2:\n",
    "        fib = [1,1]\n",
    "        while i < (num - 1):\n",
    "            fib.append(fib[i] + fib[i-1])\n",
    "            i += 1\n",
    "    return fib\n",
    "print(fibonacci())"
   ],
   "metadata": {
    "collapsed": false,
    "pycharm": {
     "name": "#%%\n"
    }
   }
  }
 ],
 "metadata": {
  "kernelspec": {
   "display_name": "Python 3",
   "language": "python",
   "name": "python3"
  },
  "language_info": {
   "codemirror_mode": {
    "name": "ipython",
    "version": 2
   },
   "file_extension": ".py",
   "mimetype": "text/x-python",
   "name": "python",
   "nbconvert_exporter": "python",
   "pygments_lexer": "ipython2",
   "version": "2.7.6"
  }
 },
 "nbformat": 4,
 "nbformat_minor": 0
}