{
 "cells": [
  {
   "cell_type": "markdown",
   "source": [
    "# 1. CHARACTER INPUT\n",
    "\n",
    "*Description: input strings types int*\n",
    "- [Exercise Source](https://www.practicepython.org/exercise/2014/01/29/01-character-input.html)\n",
    "- [Suggested Solution](https://www.practicepython.org/solution/2014/02/05/01-character-input-solutions.html)\n",
    "- [Get Current Date](https://www.geeksforgeeks.org/python-program-to-print-current-year-month-and-day/)"
   ],
   "metadata": {
    "collapsed": false,
    "pycharm": {
     "name": "#%% md\n"
    }
   },
   "outputs": []
  },
  {
   "cell_type": "markdown",
   "source": [
    "## 1.1. Exercise\n",
    "\n",
    "Create a program that asks the user to enter their name and their age.\n",
    "Print out a message addressed to them that tells them the year that they will turn 100 years old.\n",
    "\n",
    "**Note:**\n",
    "For this exercise, the expectation is that you explicitly write out the year (and therefore be out of date\n",
    "the next year).\n",
    "If you want to do this in a generic way, see [exercise 39](https://www.practicepython.org/exercise/2022/03/20/39-character-input-datetime.html).\n",
    "\n",
    "**Extras:**\n",
    "\n",
    "Add on to the previous program by asking the user for another number and printing out that many copies of the previous message.\n",
    "*(Hint: [order of operations](https://www.mathsisfun.com/operation-order-pemdas.html) exists in Python)*\n",
    "Print out that many copies of the previous message on separate lines. *(Hint: the string \"\\n is the same as\n",
    " pressing the ENTER button)*"
   ],
   "metadata": {
    "collapsed": false,
    "pycharm": {
     "name": "#%% md\n"
    }
   }
  },
  {
   "cell_type": "markdown",
   "source": [
    "## 1.2. MY Solution"
   ],
   "metadata": {
    "collapsed": false
   }
  },
  {
   "cell_type": "code",
   "execution_count": 23,
   "outputs": [
    {
     "name": "stdout",
     "output_type": "stream",
     "text": [
      "\n",
      "Hi Mandy Nguyen,\n",
      "You'll be 100 year olds in year 2095 :D!\n",
      "\n",
      "Hi Mandy Nguyen,\n",
      "You'll be 100 year olds in year 2095 :D!\n",
      "\n",
      "Hi Mandy Nguyen,\n",
      "You'll be 100 year olds in year 2095 :D!\n",
      "\n"
     ]
    }
   ],
   "source": [
    "# Import Libraries\n",
    "from datetime import date\n",
    "\n",
    "# Request Inputs\n",
    "nameInput = input(\"Enter Your Name: \")\n",
    "ageInput = int(input(\"Enter Your Age: \"))\n",
    "loopNum = int(input(\"Enter a number of time you want to print your message: \"))\n",
    "\n",
    "yearTo100 = date.today().year - ageInput + 100\n",
    "\n",
    "print(\"\"\"\n",
    "Hi {},\n",
    "You'll be 100 year olds in year {} :D!\n",
    "\"\"\".format(nameInput, yearTo100) * loopNum)"
   ],
   "metadata": {
    "collapsed": false,
    "pycharm": {
     "name": "#%%\n"
    }
   }
  },
  {
   "cell_type": "markdown",
   "source": [
    "## 1.3. Suggested Solution"
   ],
   "metadata": {
    "collapsed": false,
    "pycharm": {
     "name": "#%% md\n"
    }
   }
  },
  {
   "cell_type": "code",
   "execution_count": 22,
   "outputs": [
    {
     "name": "stdout",
     "output_type": "stream",
     "text": [
      "Mandy Nguyen, you will be 100 years old in the year 2087\n"
     ]
    }
   ],
   "source": [
    "name = input(\"What is your name: \")\n",
    "age = int(input(\"How old are you: \"))\n",
    "year = 2014 - age + 100\n",
    "print(name + \", you will be 100 years old in the year \" + str(year))"
   ],
   "metadata": {
    "collapsed": false,
    "pycharm": {
     "name": "#%%\n"
    }
   }
  },
  {
   "cell_type": "markdown",
   "source": [
    "## 1.4. MY Note\n",
    "\n",
    "The suggested solution is incorrect and not effective as you must enter the current year manually."
   ],
   "metadata": {
    "collapsed": false,
    "pycharm": {
     "name": "#%% md\n"
    }
   }
  }
 ],
 "metadata": {
  "kernelspec": {
   "display_name": "Python 3",
   "language": "python",
   "name": "python3"
  },
  "language_info": {
   "codemirror_mode": {
    "name": "ipython",
    "version": 2
   },
   "file_extension": ".py",
   "mimetype": "text/x-python",
   "name": "python",
   "nbconvert_exporter": "python",
   "pygments_lexer": "ipython2",
   "version": "2.7.6"
  }
 },
 "nbformat": 4,
 "nbformat_minor": 0
}