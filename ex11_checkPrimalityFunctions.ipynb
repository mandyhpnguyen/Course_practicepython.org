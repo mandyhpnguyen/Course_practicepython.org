{
 "cells": [
  {
   "cell_type": "markdown",
   "metadata": {
    "collapsed": true,
    "pycharm": {
     "name": "#%% md\n"
    }
   },
   "source": [
    "# 11. Check Primality Functions\n",
    "\n",
    "- [Exercise Sources](https://www.practicepython.org/exercise/2014/04/16/11-check-primality-functions.html)\n",
    "- [Suggested Solution](https://www.practicepython.org/solution/2014/04/16/11-check-primality-functions-solutions.html)"
   ]
  },
  {
   "cell_type": "markdown",
   "source": [
    "## 11.1. Exercise\n",
    "\n",
    "Ask the user for a number and determine whether the number is prime or not.\n",
    "(For those who have forgotten, a prime number is a number that has no divisors.).\n",
    "You can (and should!) use your answer to Exercise 4 to help you.\n",
    "Take this opportunity to practice using functions, described below."
   ],
   "metadata": {
    "collapsed": false,
    "pycharm": {
     "name": "#%% md\n"
    }
   }
  },
  {
   "cell_type": "markdown",
   "source": [
    "## 11.2. MY Solution"
   ],
   "metadata": {
    "collapsed": false,
    "pycharm": {
     "name": "#%% md\n"
    }
   }
  },
  {
   "cell_type": "code",
   "execution_count": 37,
   "outputs": [
    {
     "name": "stdout",
     "output_type": "stream",
     "text": [
      "1 is NOT a Prime Number!\n"
     ]
    }
   ],
   "source": [
    "user_number = int(input(\"Enter Your Number: \"))\n",
    "divisor_count = 0\n",
    "\n",
    "for i in range(1, user_number+1, 1):\n",
    "    if user_number%i == 0:\n",
    "        divisor_count +=1\n",
    "\n",
    "if divisor_count == 2:\n",
    "    print(f\"{user_number} is a Prime Number!\")\n",
    "else:\n",
    "    print(f\"{user_number} is NOT a Prime Number!\")"
   ],
   "metadata": {
    "collapsed": false,
    "pycharm": {
     "name": "#%%\n"
    }
   }
  },
  {
   "cell_type": "markdown",
   "source": [
    "## 11.3. Suggested Solution"
   ],
   "metadata": {
    "collapsed": false,
    "pycharm": {
     "name": "#%% md\n"
    }
   }
  },
  {
   "cell_type": "code",
   "execution_count": 36,
   "outputs": [
    {
     "ename": "SystemExit",
     "evalue": "The number is not prime.",
     "output_type": "error",
     "traceback": [
      "An exception has occurred, use %tb to see the full traceback.\n",
      "\u001B[0;31mSystemExit\u001B[0m\u001B[0;31m:\u001B[0m The number is not prime.\n"
     ]
    }
   ],
   "source": [
    "import sys\n",
    "number = input(\"Please enter a number\" + \"\\n\" + \">>>\")\n",
    "number = int(number)\n",
    "prime = False #initiate boolean for true false, default false\n",
    "if number > 0:\n",
    "    for x in range (2, number - 1): #this range excludes number and 1, both of which number is divisible by\n",
    "        if number % x != 0: #If number isn't evenly divisible by x, start over with the next one\n",
    "            continue\n",
    "        elif number % x == 0: #If number is evenly divisible by x, it can't be prime\n",
    "            sys.exit(\"The number is not prime.\")\n",
    "    sys.exit(\"The number is prime.\") #number wasn't evenly divisible by any x, so it's prime\n",
    "elif number == 0:\n",
    "    sys.exit(\"The number is not prime.\") #According to the Google, 0 is not prime\n",
    "else:#if number is less than 0, the number is not prime (according to the Google).\n",
    "    sys.exit(\"The number is not prime.\")"
   ],
   "metadata": {
    "collapsed": false,
    "pycharm": {
     "name": "#%%\n"
    }
   }
  }
 ],
 "metadata": {
  "kernelspec": {
   "display_name": "Python 3",
   "language": "python",
   "name": "python3"
  },
  "language_info": {
   "codemirror_mode": {
    "name": "ipython",
    "version": 2
   },
   "file_extension": ".py",
   "mimetype": "text/x-python",
   "name": "python",
   "nbconvert_exporter": "python",
   "pygments_lexer": "ipython2",
   "version": "2.7.6"
  }
 },
 "nbformat": 4,
 "nbformat_minor": 0
}