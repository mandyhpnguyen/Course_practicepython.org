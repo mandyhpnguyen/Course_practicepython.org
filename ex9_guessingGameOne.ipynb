{
 "cells": [
  {
   "cell_type": "markdown",
   "metadata": {
    "collapsed": true,
    "pycharm": {
     "name": "#%% md\n"
    }
   },
   "source": [
    "# 9. Guessing Game One\n",
    "\n",
    "- [Exercise Source](https://www.practicepython.org/exercise/2014/04/02/09-guessing-game-one.html)\n",
    "- [Suggested Solution](https://www.practicepython.org/solution/2014/04/10/09-guessing-game-one-solutions.html)\n",
    "- [Random Function](https://docs.python.org/3.10/library/random.html#random.randint)"
   ]
  },
  {
   "cell_type": "markdown",
   "source": [
    "## 9.1. Exercise\n",
    "\n",
    "Generate a random number between 1 and 9 (including 1 and 9).\n",
    "Ask the user to guess the number, then tell them whether they guessed too low, too high, or exactly right.\n",
    "*(Hint: remember to use the user input lessons from the very first exercise)*\n",
    "\n",
    "**Extras:**\n",
    "\n",
    "Keep the game going until the user types “exit”\n",
    "Keep track of how many guesses the user has taken, and when the game ends, print this out."
   ],
   "metadata": {
    "collapsed": false,
    "pycharm": {
     "name": "#%% md\n"
    }
   }
  },
  {
   "cell_type": "markdown",
   "source": [
    "## 9.2. MY Solution"
   ],
   "metadata": {
    "collapsed": false,
    "pycharm": {
     "name": "#%% md\n"
    }
   }
  },
  {
   "cell_type": "code",
   "execution_count": 4,
   "outputs": [
    {
     "name": "stdout",
     "output_type": "stream",
     "text": [
      "Your number 20 is larger than our number 5 by the distance of 15\n",
      "Total Play Time(s): 1\n",
      "\n",
      "> End of Program!! <\n",
      "\n"
     ]
    },
    {
     "ename": "SystemExit",
     "evalue": "",
     "output_type": "error",
     "traceback": [
      "An exception has occurred, use %tb to see the full traceback.\n",
      "\u001B[0;31mSystemExit\u001B[0m\n"
     ]
    },
    {
     "name": "stderr",
     "output_type": "stream",
     "text": [
      "/home/nchaiphuong/.local/lib/python3.8/site-packages/IPython/core/interactiveshell.py:3445: UserWarning: To exit: use 'exit', 'quit', or Ctrl-D.\n",
      "  warn(\"To exit: use 'exit', 'quit', or Ctrl-D.\", stacklevel=1)\n"
     ]
    }
   ],
   "source": [
    "count = 0\n",
    "\n",
    "while True:\n",
    "\n",
    "    import random\n",
    "    import sys\n",
    "\n",
    "    randomNum = random.randint(1, 9)\n",
    "    guessNum = input(\"\\nEnter a Number (0-9) to Guess: \")\n",
    "\n",
    "    if guessNum == \"exit\" or guessNum == \"e\":\n",
    "        print(\"\\n> End of Program!! <\\n\")\n",
    "        sys.exit()\n",
    "        break\n",
    "    elif type(int(guessNum)) == int:\n",
    "\n",
    "        guessNum = int(guessNum)\n",
    "\n",
    "        if randomNum == guessNum:\n",
    "            print(f\"You guessed exactly! We both guessed {randomNum}!!\")\n",
    "        elif randomNum < guessNum:\n",
    "            print(f\"Your number {guessNum} is larger than our number {randomNum} by the distance of {guessNum-randomNum}\")\n",
    "        else:\n",
    "            print(f\"Your number {guessNum} is smaller than our number {randomNum} by the distance of {-guessNum+randomNum}\")\n",
    "\n",
    "        count = count + 1\n",
    "        print(f\"Total Play Time(s): {count}\")\n",
    "\n",
    "        while True:\n",
    "            exit_prompt = input(\"\\nWould you like to play again? (Yes/No): \").lower()\n",
    "            yesPromptList = [\"y\", \"yes\"]\n",
    "            noPromptList = [\"n\", \"no\"]\n",
    "            if exit_prompt in yesPromptList:\n",
    "                break\n",
    "            elif exit_prompt in noPromptList:\n",
    "                print(\"\\n> End of Program!! <\\n\")\n",
    "                sys.exit()\n",
    "                break\n",
    "            else:\n",
    "                print(\"Error: Try Again!!\")\n",
    "                continue\n",
    "    else:\n",
    "        print(\"Error: Try Again!!\")"
   ],
   "metadata": {
    "collapsed": false,
    "pycharm": {
     "name": "#%%\n"
    }
   }
  },
  {
   "cell_type": "markdown",
   "source": [
    "## 9.3. Suggested Solution"
   ],
   "metadata": {
    "collapsed": false,
    "pycharm": {
     "name": "#%% md\n"
    }
   }
  },
  {
   "cell_type": "code",
   "execution_count": 6,
   "outputs": [
    {
     "name": "stdout",
     "output_type": "stream",
     "text": [
      "Too high\n",
      "Too high\n"
     ]
    },
    {
     "data": {
      "text/plain": "'exit'"
     },
     "execution_count": 6,
     "metadata": {},
     "output_type": "execute_result"
    }
   ],
   "source": [
    "import random\n",
    "\n",
    "rd = random.randint(1,9)\n",
    "guess = 0\n",
    "c = 0\n",
    "while guess != rd and guess != \"exit\":\n",
    "    guess = input(\"Enter a guess between 1 to 9\")\n",
    "\n",
    "    if guess == \"exit\":\n",
    "        break\n",
    "\n",
    "    guess = int(guess)\n",
    "    c += 1\n",
    "\n",
    "    if guess < rd:\n",
    "        print(\"Too low\")\n",
    "    elif guess > rd:\n",
    "        print(\"Too high\")\n",
    "    else:\n",
    "        print(\"Right!\")\n",
    "        print(\"You took only\", c, \"tries!\")\n",
    "input()"
   ],
   "metadata": {
    "collapsed": false,
    "pycharm": {
     "name": "#%%\n"
    }
   }
  },
  {
   "cell_type": "code",
   "execution_count": 9,
   "outputs": [
    {
     "name": "stdout",
     "output_type": "stream",
     "text": [
      "Alright...\n",
      "Wrong, too high.\n",
      "Wrong, too high.\n",
      "Wrong, too high.\n"
     ]
    },
    {
     "ename": "ValueError",
     "evalue": "invalid literal for int() with base 10: 'exit'",
     "output_type": "error",
     "traceback": [
      "\u001B[0;31m-----------------------------------------------------------\u001B[0m",
      "\u001B[0;31mValueError\u001B[0m                Traceback (most recent call last)",
      "\u001B[0;32m<ipython-input-9-0ff9b393342b>\u001B[0m in \u001B[0;36m<module>\u001B[0;34m\u001B[0m\n\u001B[1;32m     15\u001B[0m \u001B[0;32mwhile\u001B[0m \u001B[0mRUNNING\u001B[0m\u001B[0;34m:\u001B[0m\u001B[0;34m\u001B[0m\u001B[0;34m\u001B[0m\u001B[0m\n\u001B[1;32m     16\u001B[0m     \u001B[0mGUESS\u001B[0m \u001B[0;34m=\u001B[0m \u001B[0minput\u001B[0m\u001B[0;34m(\u001B[0m\u001B[0;34m\"What is your lucky number? \"\u001B[0m\u001B[0;34m)\u001B[0m\u001B[0;34m\u001B[0m\u001B[0;34m\u001B[0m\u001B[0m\n\u001B[0;32m---> 17\u001B[0;31m     \u001B[0;32mif\u001B[0m \u001B[0mint\u001B[0m\u001B[0;34m(\u001B[0m\u001B[0mGUESS\u001B[0m\u001B[0;34m)\u001B[0m \u001B[0;34m<\u001B[0m \u001B[0mNUMBER\u001B[0m\u001B[0;34m:\u001B[0m\u001B[0;34m\u001B[0m\u001B[0;34m\u001B[0m\u001B[0m\n\u001B[0m\u001B[1;32m     18\u001B[0m         \u001B[0mprint\u001B[0m\u001B[0;34m(\u001B[0m\u001B[0;34m\"Wrong, too low.\"\u001B[0m\u001B[0;34m)\u001B[0m\u001B[0;34m\u001B[0m\u001B[0;34m\u001B[0m\u001B[0m\n\u001B[1;32m     19\u001B[0m     \u001B[0;32melif\u001B[0m \u001B[0mint\u001B[0m\u001B[0;34m(\u001B[0m\u001B[0mGUESS\u001B[0m\u001B[0;34m)\u001B[0m \u001B[0;34m>\u001B[0m \u001B[0mNUMBER\u001B[0m\u001B[0;34m:\u001B[0m\u001B[0;34m\u001B[0m\u001B[0;34m\u001B[0m\u001B[0m\n",
      "\u001B[0;31mValueError\u001B[0m: invalid literal for int() with base 10: 'exit'"
     ]
    }
   ],
   "source": [
    "import random\n",
    "\n",
    "# Awroken\n",
    "\n",
    "MINIMUM = 1\n",
    "MAXIMUM = 9\n",
    "NUMBER = random.randint(MINIMUM, MAXIMUM)\n",
    "GUESS = None\n",
    "ANOTHER = None\n",
    "TRY = 0\n",
    "RUNNING = True\n",
    "\n",
    "print(\"Alright...\")\n",
    "\n",
    "while RUNNING:\n",
    "    GUESS = input(\"What is your lucky number? \")\n",
    "    if int(GUESS) < NUMBER:\n",
    "        print(\"Wrong, too low.\")\n",
    "    elif int(GUESS) > NUMBER:\n",
    "        print(\"Wrong, too high.\")\n",
    "    elif GUESS.lower() == \"exit\":\n",
    "        print(\"Better luck next time.\")\n",
    "    elif int(GUESS) == NUMBER:\n",
    "        print(\"Yes, that's the one, %s.\" % str(NUMBER))\n",
    "        if TRY < 2:\n",
    "            print(\"Impressive, only %s tries.\" % str(TRY))\n",
    "        elif TRY > 2 and TRY < 10:\n",
    "            print(\"Pretty good, %s tries.\" % str(TRY))\n",
    "        else:\n",
    "            print(\"Bad, %s tries.\" % str(TRY))\n",
    "        RUNNING = False\n",
    "    TRY += 1"
   ],
   "metadata": {
    "collapsed": false,
    "pycharm": {
     "name": "#%%\n"
    }
   }
  }
 ],
 "metadata": {
  "kernelspec": {
   "display_name": "Python 3",
   "language": "python",
   "name": "python3"
  },
  "language_info": {
   "codemirror_mode": {
    "name": "ipython",
    "version": 2
   },
   "file_extension": ".py",
   "mimetype": "text/x-python",
   "name": "python",
   "nbconvert_exporter": "python",
   "pygments_lexer": "ipython2",
   "version": "2.7.6"
  }
 },
 "nbformat": 4,
 "nbformat_minor": 0
}