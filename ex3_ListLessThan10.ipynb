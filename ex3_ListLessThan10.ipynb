{
 "cells": [
  {
   "cell_type": "markdown",
   "metadata": {
    "collapsed": true,
    "pycharm": {
     "name": "#%% md\n"
    }
   },
   "source": [
    "# 3. List Less Than 10\n",
    "\n",
    "*Description: list numbers elements if conditional*\n",
    "- [Exercise Source](https://www.practicepython.org/exercise/2014/02/15/03-list-less-than-ten.html)\n",
    "- [Suggested Solution](https://www.practicepython.org/solution/2014/02/26/03-list-less-than-ten-solutions.html)"
   ]
  },
  {
   "cell_type": "markdown",
   "source": [
    "## 3.1. Exercise\n",
    "\n",
    "Take a list, say for example this one:\n",
    "> a = [1, 1, 2, 3, 5, 8, 13, 21, 34, 55, 89]\n",
    "\n",
    "and write a program that prints out all the elements of the list that are less than 5.\n",
    "\n",
    "**Extras:**\n",
    "\n",
    "Instead of printing the elements one by one, make a new list that has all the elements less than 5 from this list in it and print out this new list.\n",
    "Write this in one line of Python.\n",
    "Ask the user for a number and return a list that contains only elements from the original list a that are smaller than that number given by the user."
   ],
   "metadata": {
    "collapsed": false,
    "pycharm": {
     "name": "#%% md\n"
    }
   }
  },
  {
   "cell_type": "markdown",
   "source": [
    "## 3.2. MY Solution\n",
    "\n",
    "**Test Example:**\n",
    "\n",
    "***3, 4, 8, 9, 4, 5, 5, 7, 3, 3, 2, 11, 21, 1, 0, 6, 4, 0, 1***"
   ],
   "metadata": {
    "collapsed": false,
    "pycharm": {
     "name": "#%% md\n"
    }
   }
  },
  {
   "cell_type": "code",
   "execution_count": 35,
   "outputs": [],
   "source": [
    "listInput = list(map(str, input(\"Enter your number list with elements separated by \\\", \\\": \").split(\", \")))\n",
    "# print(listInput, type(listInput))"
   ],
   "metadata": {
    "collapsed": false,
    "pycharm": {
     "name": "#%%\n"
    }
   }
  },
  {
   "cell_type": "code",
   "execution_count": 36,
   "outputs": [
    {
     "name": "stdout",
     "output_type": "stream",
     "text": [
      "Your New List with no Duplicates is: \n",
      "['3', '4', '6', '7', '8']\n",
      "The List of Numbers less than 5 is: \n",
      "3; 4; "
     ]
    }
   ],
   "source": [
    "setInput = set(listInput)\n",
    "newList = sorted(list(setInput))\n",
    "print(\"Your New List with no Duplicates is: \")\n",
    "print(newList)\n",
    "print(\"The List of Numbers less than 5 is: \")\n",
    "for i in range(len(newList)):\n",
    "    if float(newList[i]) < 5:\n",
    "        print(newList[i], end=\"; \")\n",
    "    i += 1"
   ],
   "metadata": {
    "collapsed": false,
    "pycharm": {
     "name": "#%%\n"
    }
   }
  }
 ],
 "metadata": {
  "kernelspec": {
   "display_name": "Python 3",
   "language": "python",
   "name": "python3"
  },
  "language_info": {
   "codemirror_mode": {
    "name": "ipython",
    "version": 2
   },
   "file_extension": ".py",
   "mimetype": "text/x-python",
   "name": "python",
   "nbconvert_exporter": "python",
   "pygments_lexer": "ipython2",
   "version": "2.7.6"
  }
 },
 "nbformat": 4,
 "nbformat_minor": 0
}