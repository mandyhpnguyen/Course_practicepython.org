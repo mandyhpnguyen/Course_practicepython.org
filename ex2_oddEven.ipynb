{
 "cells": [
  {
   "cell_type": "markdown",
   "metadata": {
    "collapsed": true,
    "pycharm": {
     "name": "#%% md\n"
    }
   },
   "source": [
    "# 2. Odd or Even\n",
    "*Description: input if types int equality comparison numbers mod*\n",
    "- [Exercise Source](https://www.practicepython.org/exercise/2014/02/05/02-odd-or-even.html)\n",
    "- [Suggested Solution](https://www.practicepython.org/solution/2014/02/15/02-odd-or-even-solutions.html)\n",
    "- [Test Divisibility](https://www.montereyinstitute.org/courses/DevelopmentalMath/TEXTGROUP-1-8_RESOURCE/U02_L1_T3_text_final.html#:~:text=Tests%20of%20Divisibility&text=When%20one%20number%20can%20be,%20multiple%20of%20that%20number.)"
   ]
  },
  {
   "cell_type": "markdown",
   "source": [
    "## 2.1. Exercise\n",
    "\n",
    "Ask the user for a number.\n",
    "Depending on whether the number is even or odd, print out an appropriate message to the user.\n",
    "*(Hint: how does an even / odd number react differently when divided by 2?)*\n",
    "\n",
    "**Extras:**\n",
    "\n",
    "If the number is a multiple of 4, print out a different message.\n",
    "Ask the user for two numbers: one number to check (call it num) and one number to divide by (check).\n",
    "If check divides evenly into num, tell that to the user.\n",
    "If not, print a different appropriate message."
   ],
   "metadata": {
    "collapsed": false,
    "pycharm": {
     "name": "#%% md\n"
    }
   }
  },
  {
   "cell_type": "markdown",
   "source": [
    "## 2.2. MY Solution"
   ],
   "metadata": {
    "collapsed": false,
    "pycharm": {
     "name": "#%% md\n"
    }
   }
  },
  {
   "cell_type": "code",
   "execution_count": 19,
   "outputs": [
    {
     "name": "stdout",
     "output_type": "stream",
     "text": [
      "5 is an Odd number.\n"
     ]
    }
   ],
   "source": [
    "numInput = input(\"Enter an Integer Number: \")\n",
    "if float(numInput)%2==0:\n",
    "    if numInput%4==0:\n",
    "        print(str(numInput) + \" is an Even number and divisible by 4.\")\n",
    "    else:\n",
    "        print(str(numInput) + \" is an Even number.\")\n",
    "else:\n",
    "    print(str(numInput) + \" is an Odd number.\")"
   ],
   "metadata": {
    "collapsed": false,
    "pycharm": {
     "name": "#%%\n"
    }
   }
  },
  {
   "cell_type": "code",
   "execution_count": 20,
   "outputs": [
    {
     "name": "stdout",
     "output_type": "stream",
     "text": [
      "\n",
      "The Quotient of The Division 46/4 is 11.5 with The Remainder of 2.0.\n",
      "Thus, the Numerator 46 is NOT divisible by the Denominator 4.\n",
      "\n"
     ]
    }
   ],
   "source": [
    "numeratorNum = input(\"Enter Your Numerator: \")\n",
    "denominatorNum = input(\"Enter Your Denominator: \")\n",
    "quotientNum = (float(numeratorNum) / float(denominatorNum))\n",
    "remainderNum = float(numeratorNum) - (float(denominatorNum) * int(quotientNum)) #numeratorNum%denominatorNum\n",
    "\n",
    "if remainderNum == 0:\n",
    "    print(\"\"\"\n",
    "The Quotient of The Division {numerator}/{denominator} is {quotient} with The Remainder of {remainder}.\n",
    "Therefore, the Numerator {numerator} is divisible by the Denominator {denominator}.\n",
    "\"\"\".format(numerator=numeratorNum, denominator=denominatorNum, quotient=quotientNum, remainder=remainderNum))\n",
    "else:\n",
    "    print(\"\"\"\n",
    "The Quotient of The Division {numerator}/{denominator} is {quotient} with The Remainder of {remainder}.\n",
    "Thus, the Numerator {numerator} is NOT divisible by the Denominator {denominator}.\n",
    "\"\"\".format(numerator=numeratorNum, denominator=denominatorNum, quotient=quotientNum, remainder=remainderNum))"
   ],
   "metadata": {
    "collapsed": false,
    "pycharm": {
     "name": "#%%\n"
    }
   }
  },
  {
   "cell_type": "markdown",
   "source": [
    "## 2.3. Suggested Solution"
   ],
   "metadata": {
    "collapsed": false,
    "pycharm": {
     "name": "#%% md\n"
    }
   }
  },
  {
   "cell_type": "code",
   "execution_count": 21,
   "outputs": [
    {
     "name": "stdout",
     "output_type": "stream",
     "text": [
      "You picked an odd number.\n"
     ]
    }
   ],
   "source": [
    "num = input(\"Enter a number: \")\n",
    "mod = float(num) % 2\n",
    "if float(mod) > 0:\n",
    "    print(\"You picked an odd number.\")\n",
    "else:\n",
    "    print(\"You picked an even number.\")"
   ],
   "metadata": {
    "collapsed": false,
    "pycharm": {
     "name": "#%%\n"
    }
   }
  },
  {
   "cell_type": "code",
   "execution_count": 23,
   "outputs": [
    {
     "name": "stdout",
     "output_type": "stream",
     "text": [
      "6 is an even number\n",
      "6 does not divide evenly by 5\n"
     ]
    }
   ],
   "source": [
    "num = int(input(\"give me a number to check: \"))\n",
    "check = int(input(\"give me a number to divide by: \"))\n",
    "\n",
    "if num % 4 == 0:\n",
    "    print(num, \"is a multiple of 4\")\n",
    "elif num % 2 == 0:\n",
    "    print(num, \"is an even number\")\n",
    "else:\n",
    "    print(num, \"is an odd number\")\n",
    "\n",
    "if num % check == 0:\n",
    "    print(num, \"divides evenly by\", check)\n",
    "else:\n",
    "    print(num, \"does not divide evenly by\", check)"
   ],
   "metadata": {
    "collapsed": false,
    "pycharm": {
     "name": "#%%\n"
    }
   }
  }
 ],
 "metadata": {
  "kernelspec": {
   "display_name": "Python 3",
   "language": "python",
   "name": "python3"
  },
  "language_info": {
   "codemirror_mode": {
    "name": "ipython",
    "version": 2
   },
   "file_extension": ".py",
   "mimetype": "text/x-python",
   "name": "python",
   "nbconvert_exporter": "python",
   "pygments_lexer": "ipython2",
   "version": "2.7.6"
  }
 },
 "nbformat": 4,
 "nbformat_minor": 0
}