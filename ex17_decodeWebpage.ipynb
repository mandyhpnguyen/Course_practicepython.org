{
 "cells": [
  {
   "cell_type": "markdown",
   "metadata": {
    "collapsed": true,
    "pycharm": {
     "name": "#%% md\n"
    }
   },
   "source": [
    "# 17. Decode a Web Page\n",
    "\n",
    "- [Exercise Source](https://www.practicepython.org/exercise/2014/06/06/17-decode-a-web-page.html)\n",
    "- [Suggested Solution](https://www.practicepython.org/solution/2014/07/10/17-decode-a-web-page-solutions.html)\n",
    "- [\"Request\" Library](https://docs.python-requests.org/en/latest/)\n",
    "- [\"BeautifulSoup\" Library](https://www.crummy.com/software/BeautifulSoup/bs4/doc/)"
   ]
  },
  {
   "cell_type": "markdown",
   "source": [
    "## 17.1. Exercise\n",
    "\n",
    "Use the BeautifulSoup and requests Python packages to print out a list of all the article titles on the\n",
    "[New York Times homepage](https://www.nytimes.com/).\n",
    "\n",
    "*Note:*\n",
    "\n",
    "This is a 4-chili exercise, not because it introduces a concept (although it introduces a new library), but\n",
    " because this exercise is more like a project. Feel free to skip this and come back when you’re more ready!\n"
   ],
   "metadata": {
    "collapsed": false,
    "pycharm": {
     "name": "#%% md\n"
    }
   }
  },
  {
   "cell_type": "markdown",
   "source": [
    "## 17.2. MY Solution"
   ],
   "metadata": {
    "collapsed": false,
    "pycharm": {
     "name": "#%% md\n"
    }
   }
  },
  {
   "cell_type": "code",
   "execution_count": 8,
   "outputs": [
    {
     "ename": "ModuleNotFoundError",
     "evalue": "No module named 'beautifulsoup4'",
     "output_type": "error",
     "traceback": [
      "\u001B[0;31m-----------------------------------------------------------\u001B[0m",
      "\u001B[0;31mModuleNotFoundError\u001B[0m       Traceback (most recent call last)",
      "\u001B[0;32m<ipython-input-8-39b2ff728976>\u001B[0m in \u001B[0;36m<module>\u001B[0;34m\u001B[0m\n\u001B[0;32m----> 1\u001B[0;31m \u001B[0;32mfrom\u001B[0m \u001B[0mbeautifulsoup4\u001B[0m \u001B[0;32mimport\u001B[0m \u001B[0mBeautifulSoup\u001B[0m\u001B[0;34m\u001B[0m\u001B[0;34m\u001B[0m\u001B[0m\n\u001B[0m\u001B[1;32m      2\u001B[0m \u001B[0;32mimport\u001B[0m \u001B[0mrequests\u001B[0m\u001B[0;34m\u001B[0m\u001B[0;34m\u001B[0m\u001B[0m\n\u001B[1;32m      3\u001B[0m \u001B[0;34m\u001B[0m\u001B[0m\n\u001B[1;32m      4\u001B[0m \u001B[0murl\u001B[0m \u001B[0;34m=\u001B[0m \u001B[0;34m\"http://github.com\"\u001B[0m\u001B[0;34m\u001B[0m\u001B[0;34m\u001B[0m\u001B[0m\n\u001B[1;32m      5\u001B[0m \u001B[0mr\u001B[0m \u001B[0;34m=\u001B[0m \u001B[0mrequests\u001B[0m\u001B[0;34m.\u001B[0m\u001B[0mget\u001B[0m\u001B[0;34m(\u001B[0m\u001B[0murl\u001B[0m\u001B[0;34m)\u001B[0m\u001B[0;34m\u001B[0m\u001B[0;34m\u001B[0m\u001B[0m\n",
      "\u001B[0;31mModuleNotFoundError\u001B[0m: No module named 'beautifulsoup4'"
     ]
    }
   ],
   "source": [
    "from beautifulsoup4 import BeautifulSoup\n",
    "import requests\n",
    "\n",
    "url = \"http://github.com\"\n",
    "r = requests.get(url)\n",
    "r_html = r.text\n",
    "soup = BeautifulSoup(r_html)\n",
    "title = soup.find('span', 'articletitle').string"
   ],
   "metadata": {
    "collapsed": false,
    "pycharm": {
     "name": "#%%\n"
    }
   }
  },
  {
   "cell_type": "markdown",
   "source": [
    "## 17.3. Suggested Solution"
   ],
   "metadata": {
    "collapsed": false,
    "pycharm": {
     "name": "#%% md\n"
    }
   }
  },
  {
   "cell_type": "code",
   "execution_count": null,
   "outputs": [],
   "source": [],
   "metadata": {
    "collapsed": false,
    "pycharm": {
     "name": "#%%\n"
    }
   }
  }
 ],
 "metadata": {
  "kernelspec": {
   "display_name": "Python 3",
   "language": "python",
   "name": "python3"
  },
  "language_info": {
   "codemirror_mode": {
    "name": "ipython",
    "version": 2
   },
   "file_extension": ".py",
   "mimetype": "text/x-python",
   "name": "python",
   "nbconvert_exporter": "python",
   "pygments_lexer": "ipython2",
   "version": "2.7.6"
  }
 },
 "nbformat": 4,
 "nbformat_minor": 0
}