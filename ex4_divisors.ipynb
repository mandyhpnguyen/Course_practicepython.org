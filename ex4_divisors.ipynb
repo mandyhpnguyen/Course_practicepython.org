{
 "cells": [
  {
   "cell_type": "markdown",
   "metadata": {
    "collapsed": true,
    "pycharm": {
     "name": "#%% md\n"
    }
   },
   "source": [
    "# 4. Divisors\n",
    "- [Exercise Source](https://www.practicepython.org/exercise/2014/02/26/04-divisors.html)\n",
    "- [Suggested Solution](https://www.practicepython.org/solution/2014/03/05/04-divisors-solutions.html)"
   ]
  },
  {
   "cell_type": "markdown",
   "source": [
    "## 4.1. Exercise\n",
    "\n",
    "Create a program that asks the user for a number and then prints out a list of all the divisors of that number.\n",
    "*(Hint: If you don’t know what a divisor is, it is a number that divides evenly into another number.*\n",
    "*For example, 13 is a divisor of 26 because 26 / 13 has no remainder.)*"
   ],
   "metadata": {
    "collapsed": false,
    "pycharm": {
     "name": "#%% md\n"
    }
   }
  },
  {
   "cell_type": "markdown",
   "source": [
    "## 4.2. MY Solution"
   ],
   "metadata": {
    "collapsed": false,
    "pycharm": {
     "name": "#%% md\n"
    }
   }
  },
  {
   "cell_type": "code",
   "execution_count": 32,
   "outputs": [
    {
     "name": "stdout",
     "output_type": "stream",
     "text": [
      "Divisors of 100 are:\n",
      "1, 2, 4, 5, 10, 20, 25, 50, 100\n"
     ]
    }
   ],
   "source": [
    "numInput = input(\"Enter Your Number: \")\n",
    "\n",
    "divisorList = []\n",
    "i = 1\n",
    "\n",
    "for i in range(1, int(numInput)+1):\n",
    "    if int(numInput)%i == 0:\n",
    "        divisorList.append(str(i))\n",
    "        i += 1\n",
    "\n",
    "print(\"Divisors of {} are:\\n{}\".format(numInput, \", \".join(divisorList)))"
   ],
   "metadata": {
    "collapsed": false,
    "pycharm": {
     "name": "#%%\n"
    }
   }
  },
  {
   "cell_type": "markdown",
   "source": [
    "## 4.3. Suggested Solution"
   ],
   "metadata": {
    "collapsed": false,
    "pycharm": {
     "name": "#%% md\n"
    }
   }
  },
  {
   "cell_type": "code",
   "execution_count": 33,
   "outputs": [
    {
     "name": "stdout",
     "output_type": "stream",
     "text": [
      "[1, 2, 4, 5, 10, 20, 25, 50, 100]\n"
     ]
    }
   ],
   "source": [
    "__author__ = 'jeffreyhunt'\n",
    "\n",
    "num = int(input(\"Please choose a number to divide: \"))\n",
    "\n",
    "listRange = list(range(1,num+1))\n",
    "\n",
    "divisorList = []\n",
    "\n",
    "for number in listRange:\n",
    "    if num % number == 0:\n",
    "        divisorList.append(number)\n",
    "\n",
    "print(divisorList)"
   ],
   "metadata": {
    "collapsed": false,
    "pycharm": {
     "name": "#%%\n"
    }
   }
  }
 ],
 "metadata": {
  "kernelspec": {
   "display_name": "Python 3",
   "language": "python",
   "name": "python3"
  },
  "language_info": {
   "codemirror_mode": {
    "name": "ipython",
    "version": 2
   },
   "file_extension": ".py",
   "mimetype": "text/x-python",
   "name": "python",
   "nbconvert_exporter": "python",
   "pygments_lexer": "ipython2",
   "version": "2.7.6"
  }
 },
 "nbformat": 4,
 "nbformat_minor": 0
}