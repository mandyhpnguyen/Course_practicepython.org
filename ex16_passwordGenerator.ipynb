{
 "cells": [
  {
   "cell_type": "markdown",
   "metadata": {
    "collapsed": true,
    "pycharm": {
     "name": "#%% md\n"
    }
   },
   "source": [
    "# 16. Password Generator\n",
    "\n",
    "- [Exercise Source](https://www.practicepython.org/exercise/2014/05/28/16-password-generator.html)\n",
    "- [Suggested Solution](https://www.practicepython.org/solution/2014/06/06/16-password-generator-solutions.html)"
   ]
  },
  {
   "cell_type": "markdown",
   "source": [
    "## 16.1. Exercise\n",
    "\n",
    "Write a password generator in Python.\n",
    "Be creative with how you generate passwords - strong passwords have a mix of lowercase letters, uppercase letters, numbers, and symbols.\n",
    "The passwords should be random, generating a new password every time the user asks for a new password.\n",
    "Include your run-time code in a main method.\n",
    "\n",
    "**Note:**\n",
    "This is a 4-chili exercise, not because it introduces a concept, but because this exercise is more like a\n",
    "project. Feel free to skip this and come back when you’re more ready!\n",
    "\n",
    "**Extras:**\n",
    "Ask the user how strong they want their password to be. For weak passwords, pick a word or two from a list."
   ],
   "metadata": {
    "collapsed": false,
    "pycharm": {
     "name": "#%% md\n"
    }
   }
  },
  {
   "cell_type": "markdown",
   "source": [
    "## 16.2. MY Solution"
   ],
   "metadata": {
    "collapsed": false,
    "pycharm": {
     "name": "#%% md\n"
    }
   }
  },
  {
   "cell_type": "code",
   "execution_count": 34,
   "outputs": [
    {
     "name": "stdout",
     "output_type": "stream",
     "text": [
      "!Gyl9zF\n"
     ]
    }
   ],
   "source": [
    "def generate_password(characterCount=10):\n",
    "    import random\n",
    "\n",
    "    characters = \"abcdefghijklmnopqrstuvwxyz01234567890ABCDEFGHIJKLMNOPQRSTUVWXYZ!@#$%^&*()?\"\n",
    "    charactersList = [character for character in characters]\n",
    "\n",
    "    passwordList = []\n",
    "    for i in range(characterCount):\n",
    "        passwordList.append(random.choice(charactersList))\n",
    "\n",
    "    password = \"\".join(passwordList)\n",
    "    print(password)\n",
    "\n",
    "count = int(input(\"Enter the Number of Characters in Your Passwords: \"))\n",
    "generate_password(count)"
   ],
   "metadata": {
    "collapsed": false,
    "pycharm": {
     "name": "#%%\n"
    }
   }
  },
  {
   "cell_type": "code",
   "execution_count": 19,
   "outputs": [
    {
     "name": "stdout",
     "output_type": "stream",
     "text": [
      "Z6!\n"
     ]
    }
   ],
   "source": [
    "def generate_password_2(characterCount=9):\n",
    "    import string\n",
    "    import random\n",
    "\n",
    "    # print(string.ascii_letters)\n",
    "    # print(string.digits)\n",
    "    # print(string.punctuation)\n",
    "\n",
    "    # characterCount = 5\n",
    "    characters = string.ascii_letters + string.digits + string.punctuation\n",
    "    password = \"\".join([random.choice(characters) for _ in range(characterCount)])\n",
    "\n",
    "    print(password)\n",
    "\n",
    "generate_password_2(3)"
   ],
   "metadata": {
    "collapsed": false,
    "pycharm": {
     "name": "#%%\n"
    }
   }
  },
  {
   "cell_type": "markdown",
   "source": [
    "## 16.3. Suggested Solution"
   ],
   "metadata": {
    "collapsed": false,
    "pycharm": {
     "name": "#%% md\n"
    }
   }
  },
  {
   "cell_type": "code",
   "execution_count": 23,
   "outputs": [
    {
     "name": "stdout",
     "output_type": "stream",
     "text": [
      "YP%ga0^Q\n"
     ]
    }
   ],
   "source": [
    "# generate a password with length \"passlen\" with no duplicate characters in the password\n",
    "\n",
    "import random\n",
    "\n",
    "s = \"abcdefghijklmnopqrstuvwxyz01234567890ABCDEFGHIJKLMNOPQRSTUVWXYZ!@#$%^&*()?\"\n",
    "passlen = 8\n",
    "p =  \"\".join(random.sample(s, passlen))\n",
    "print(p)"
   ],
   "metadata": {
    "collapsed": false,
    "pycharm": {
     "name": "#%%\n"
    }
   }
  },
  {
   "cell_type": "code",
   "execution_count": 24,
   "outputs": [
    {
     "name": "stdout",
     "output_type": "stream",
     "text": [
      "T^ajb\n"
     ]
    }
   ],
   "source": [
    "import string\n",
    "import random\n",
    "\n",
    "def pw_gen(size = 8, chars=string.ascii_letters + string.digits + string.punctuation):\n",
    "\treturn ''.join(random.choice(chars) for _ in range(size))\n",
    "\n",
    "print(pw_gen(int(input('How many characters in your password?'))))"
   ],
   "metadata": {
    "collapsed": false,
    "pycharm": {
     "name": "#%%\n"
    }
   }
  }
 ],
 "metadata": {
  "kernelspec": {
   "display_name": "Python 3",
   "language": "python",
   "name": "python3"
  },
  "language_info": {
   "codemirror_mode": {
    "name": "ipython",
    "version": 2
   },
   "file_extension": ".py",
   "mimetype": "text/x-python",
   "name": "python",
   "nbconvert_exporter": "python",
   "pygments_lexer": "ipython2",
   "version": "2.7.6"
  }
 },
 "nbformat": 4,
 "nbformat_minor": 0
}