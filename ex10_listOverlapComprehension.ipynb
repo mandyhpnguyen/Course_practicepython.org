{
 "cells": [
  {
   "cell_type": "markdown",
   "metadata": {
    "collapsed": true,
    "pycharm": {
     "name": "#%% md\n"
    }
   },
   "source": [
    "# 10. List Overlap Comprehensions\n",
    "\n",
    "- [Exercise Source](https://www.practicepython.org/exercise/2014/04/10/10-list-overlap-comprehensions.html)\n",
    "- [Suggested Solution](https://www.practicepython.org/solution/2014/04/16/10-list-overlap-comprehensions-solutions.html)"
   ]
  },
  {
   "cell_type": "markdown",
   "source": [
    "## 10.1. Exercise\n",
    "\n",
    "This week’s exercise is going to be revisiting an old exercise (see Exercise 5), except require the solution in a different way.\n",
    "\n",
    "Take two lists, say for example these two:\n",
    "\n",
    "> a = [1, 1, 2, 3, 5, 8, 13, 21, 34, 55, 89]\n",
    "> b = [1, 2, 3, 4, 5, 6, 7, 8, 9, 10, 11, 12, 13]\n",
    "\n",
    "and write a program that returns a list that contains only the elements that are common between the lists (without duplicates).\n",
    "Make sure your program works on two lists of different sizes. Write this using at least one list comprehension.\n",
    "*(Hint: Remember list comprehensions from Exercise 7).*\n",
    "\n",
    "**Extra:**\n",
    "\n",
    "Randomly generate two lists to test this"
   ],
   "metadata": {
    "collapsed": false,
    "pycharm": {
     "name": "#%% md\n"
    }
   }
  },
  {
   "cell_type": "markdown",
   "source": [
    "## 10.2. MY Solution"
   ],
   "metadata": {
    "collapsed": false,
    "pycharm": {
     "name": "#%% md\n"
    }
   }
  },
  {
   "cell_type": "code",
   "execution_count": 31,
   "outputs": [
    {
     "name": "stdout",
     "output_type": "stream",
     "text": [
      "[1, 2, 3, 5, 8, 13]\n",
      "[1, 2, 3, 5, 8, 13]\n"
     ]
    }
   ],
   "source": [
    "listA = [1, 1, 2, 3, 5, 8, 13, 21, 34, 55, 89]\n",
    "listB = [1, 2, 3, 4, 5, 6, 7, 8, 9, 10, 11, 12, 13]\n",
    "\n",
    "# Method 1:\n",
    "setA = set(listA)\n",
    "setB = set(listB)\n",
    "\n",
    "newSet = setA & setB\n",
    "newList = list(newSet)\n",
    "\n",
    "print(newList)\n",
    "\n",
    "# Method 2:\n",
    "newList2 = [item for item in set(listA) if item in set(listB)]\n",
    "print(newList2)"
   ],
   "metadata": {
    "collapsed": false,
    "pycharm": {
     "name": "#%%\n"
    }
   }
  },
  {
   "cell_type": "markdown",
   "source": [
    "## 10.3. Suggested Solution"
   ],
   "metadata": {
    "collapsed": false,
    "pycharm": {
     "name": "#%% md\n"
    }
   }
  },
  {
   "cell_type": "code",
   "execution_count": 26,
   "outputs": [
    {
     "name": "stdout",
     "output_type": "stream",
     "text": [
      "[1, 1, 2, 3, 5, 8, 13]\n"
     ]
    }
   ],
   "source": [
    "import random\n",
    "\n",
    "# a = random.sample(range(1,30), 12)\n",
    "# b = random.sample(range(1,30), 16)\n",
    "\n",
    "a = [1, 1, 2, 3, 5, 8, 13, 21, 34, 55, 89]\n",
    "b = [1, 2, 3, 4, 5, 6, 7, 8, 9, 10, 11, 12, 13]\n",
    "\n",
    "result = [i for i in a if i in b]\n",
    "\n",
    "print(result)"
   ],
   "metadata": {
    "collapsed": false,
    "pycharm": {
     "name": "#%%\n"
    }
   }
  },
  {
   "cell_type": "code",
   "execution_count": 30,
   "outputs": [
    {
     "name": "stdout",
     "output_type": "stream",
     "text": [
      "[1, 2, 3, 5, 8, 13]\n"
     ]
    }
   ],
   "source": [
    "import random\n",
    "# a = random.sample(range(1,30), 12)\n",
    "# b = random.sample(range(1,30), 16)\n",
    "\n",
    "a = [1, 1, 2, 3, 5, 8, 13, 21, 34, 55, 89]\n",
    "b = [1, 2, 3, 4, 5, 6, 7, 8, 9, 10, 11, 12, 13]\n",
    "\n",
    "result_overlap = [i for i in set(a) if i in b]\n",
    "result = []\n",
    "for element in result_overlap:\n",
    "  if element not in result:\n",
    "    result.append(element)\n",
    "\n",
    "print(result)"
   ],
   "metadata": {
    "collapsed": false,
    "pycharm": {
     "name": "#%%\n"
    }
   }
  }
 ],
 "metadata": {
  "kernelspec": {
   "display_name": "Python 3",
   "language": "python",
   "name": "python3"
  },
  "language_info": {
   "codemirror_mode": {
    "name": "ipython",
    "version": 2
   },
   "file_extension": ".py",
   "mimetype": "text/x-python",
   "name": "python",
   "nbconvert_exporter": "python",
   "pygments_lexer": "ipython2",
   "version": "2.7.6"
  }
 },
 "nbformat": 4,
 "nbformat_minor": 0
}