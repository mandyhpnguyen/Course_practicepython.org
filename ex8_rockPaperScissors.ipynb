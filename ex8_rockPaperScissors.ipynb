{
 "cells": [
  {
   "cell_type": "markdown",
   "metadata": {
    "collapsed": true,
    "pycharm": {
     "name": "#%% md\n"
    }
   },
   "source": [
    "# 8. Rock Paper Scissors\n",
    "- [Exercise Source](https://www.practicepython.org/exercise/2014/03/26/08-rock-paper-scissors.html)\n",
    "- [Suggested Solution](https://www.practicepython.org/solution/2014/04/02/08-rock-paper-scissors-solutions.html)\n",
    "- [RealPython Tutorials](https://realpython.com/python-rock-paper-scissors/)\n",
    "- [Flatten List](https://stackabuse.com/python-how-to-flatten-list-of-lists/)\n",
    "- [Get Keys from Dictionary's List Values](https://www.delftstack.com/howto/python/python-dictionary-find-key-by-value/)"
   ]
  },
  {
   "cell_type": "markdown",
   "source": [
    "## 8.1. Exercise\n",
    "\n",
    "Make a two-player Rock-Paper-Scissors game.\n",
    "*(Hint: Ask for player plays (using input), compare them, print out a message of congratulations to the\n",
    "winner, and ask if the players want to start a new game)*\n",
    "\n",
    "**Remember the rules:**\n",
    "\n",
    "Rock beats scissors\n",
    "Scissors beats paper\n",
    "Paper beats rock"
   ],
   "metadata": {
    "collapsed": false,
    "pycharm": {
     "name": "#%% md\n"
    }
   }
  },
  {
   "cell_type": "markdown",
   "source": [
    "## 8.2. MY Solution"
   ],
   "metadata": {
    "collapsed": false,
    "pycharm": {
     "name": "#%% md\n"
    }
   }
  },
  {
   "cell_type": "code",
   "execution_count": 25,
   "outputs": [
    {
     "name": "stdout",
     "output_type": "stream",
     "text": [
      "Player 1 wins!! Paper beat(s) Rock\n"
     ]
    }
   ],
   "source": [
    "# Create Dictionary of Rules\n",
    "rules = {1: \"Rock\", 2: \"Paper\", 3: \"Scissors\"}\n",
    "\n",
    "p1 = int(input(\"(1) Rock (2) Paper (3) Scissors?\\nPlayer 1: \"))\n",
    "p2 = int(input(\"(1) Rock (2) Paper (3) Scissors?\\nPlayer 2: \"))\n",
    "\n",
    "if p1 != p2:\n",
    "    if p1 == 1:\n",
    "        if p2 == 2:\n",
    "            print(\"Player 2 wins!! {p2} beat(s) {p1}\".format(p1=rules[p1], p2=rules[p2]))\n",
    "        else:\n",
    "            print(\"Player 1 wins!! {p1} beat(s) {p2}\".format(p1=rules[p1], p2=rules[p2]))\n",
    "    elif p1 == 2:\n",
    "        if p2 == 1:\n",
    "            print(\"Player 1 wins!! {p1} beat(s) {p2}\".format(p1=rules[p1], p2=rules[p2]))\n",
    "        else:\n",
    "            print(\"Player 2 wins!! {p2} beat(s) {p1}\".format(p1=rules[p1], p2=rules[p2]))\n",
    "    else:\n",
    "        if p2 == 1:\n",
    "            print(\"Player 2 wins!! {p2} beat(s) {p1}\".format(p1=rules[p1], p2=rules[p2]))\n",
    "        else:\n",
    "            print(\"Player 1 wins!! {p1} beat(s) {p2}\".format(p1=rules[p1], p2=rules[p2]))\n",
    "else:\n",
    "    print(\"draw!!\")"
   ],
   "metadata": {
    "collapsed": false,
    "pycharm": {
     "name": "#%%\n"
    }
   }
  },
  {
   "cell_type": "code",
   "execution_count": 17,
   "outputs": [
    {
     "name": "stdout",
     "output_type": "stream",
     "text": [
      "\n",
      "=========== MANDY VS. NGUYEN ============\n",
      "\n",
      "+++++++++++++++++++++++++++++++++++++++\n",
      "+++++ ROCK +++ PAPER +++ SCISSORS +++++\n",
      "+++++++++++++++++++++++++++++++++++++++\n",
      "+------------- Rules -----------------+\n",
      "+        ROCK crushes SCISSORS        +\n",
      "+      SCISSORS cut PAPER             +\n",
      "+       PAPER covers ROCK             +\n",
      "+++++++++++++++++++++++++++++++++++++++\n",
      "\n",
      "\n",
      "> MANDY chose rock & NGUYEN chose scissors <!\n",
      "\n",
      ">> MANDY wins, NGUYEN loses! <<\n",
      "\n",
      "          //////////////////////\n",
      " ========///  !!END GAME!!  ///==========\n",
      "        //////////////////////\n",
      "\n"
     ]
    },
    {
     "ename": "SystemExit",
     "evalue": "",
     "output_type": "error",
     "traceback": [
      "An exception has occurred, use %tb to see the full traceback.\n",
      "\u001B[0;31mSystemExit\u001B[0m\n"
     ]
    }
   ],
   "source": [
    "# =========== OBJECT STORAGE =============================================================================\n",
    "## Game Tittle and Rules ---------------------------------------------------------------------------------\n",
    "gameTitleRules = \"\"\"\n",
    "+++++++++++++++++++++++++++++++++++++++\n",
    "+++++ ROCK +++ PAPER +++ SCISSORS +++++\n",
    "+++++++++++++++++++++++++++++++++++++++\n",
    "+------------- Rules -----------------+\n",
    "+        ROCK crushes SCISSORS        +\n",
    "+      SCISSORS cut PAPER             +\n",
    "+       PAPER covers ROCK             +\n",
    "+++++++++++++++++++++++++++++++++++++++\n",
    "\"\"\"\n",
    "\n",
    "## Acceptable Answers Dictionary -------------------------------------------------------------------------\n",
    "global acceptAnswers; acceptAnswers = {\n",
    "    \"rock\": [\"rock\", \"rocks\", \"r\"],\n",
    "    \"paper\": [\"paper\", \"papers\", \"p\"],\n",
    "    \"scissors\": [\"scissor\", \"scissors\", \"s\"]\n",
    "}\n",
    "# print(acceptAnswers)\n",
    "## Acceptable Answers Check List --------------------------------------------------------------------------\n",
    "global answerCheckList; answerCheckList = [item for sublist in acceptAnswers.values() for item in sublist]\n",
    "# print(answerCheckList)\n",
    "## Outcome Rules ------------------------------------------------------------------------------------------\n",
    "global outcomes; outcomes = {\n",
    "    \"rock\": {\"rock\": \"draw\", \"paper\": \"lose\", \"scissors\": \"win\"},\n",
    "    \"paper\": {\"rock\": \"win\", \"paper\": \"draw\", \"scissors\": \"lose\"},\n",
    "    \"scissors\": {\"rock\": \"lose\", \"paper\": \"win\", \"scissors\": \"draw\"}\n",
    "}\n",
    "# print(outcomes)\n",
    "# =========== FUNCTIONS ===================================================================================\n",
    "## Get keys (in dictionary) from players' input -----------------------------------------------------------\n",
    "def get_answer_key(valueInput):\n",
    "    for key, value in acceptAnswers.items():\n",
    "        if valueInput in value:\n",
    "            return key\n",
    "\n",
    "## Confirm Solo or Muti-Players Game ----------------------------------------------------------------------\n",
    "def get_playerNumber():\n",
    "    while True:\n",
    "        try:\n",
    "            global playerNumber; playerNumber = int(input(\"Enter the Number of Player(s): \"))\n",
    "            if playerNumber == 1:\n",
    "                # print(\"Solo-Player\")\n",
    "                return playerNumber\n",
    "            elif playerNumber == 2:\n",
    "                # print(\"Multi-Player\")\n",
    "                return playerNumber\n",
    "            else:\n",
    "                print(\"Error: Enter 1 or 2 only!! Try Again!!\")\n",
    "                continue\n",
    "        except:\n",
    "            print(\"Error: Enter 1 or 2 only!! Try Again!!\")\n",
    "            continue\n",
    "\n",
    "## Get Users' Information ---------------------------------------------------------------------------------\n",
    "def get_users_info():\n",
    "    if playerNumber == 1:\n",
    "        global playerName; playerName = input(\"Enter Your Name: \")\n",
    "        print(f\"\\n=========== {playerName.upper()} VS. COMPUTER ============\\n{gameTitleRules}\")\n",
    "    else:\n",
    "        global p1Name; p1Name = input(\"Enter the name of Player 1: \")\n",
    "        global p2Name; p2Name = input(\"Enter the name of Player 2: \")\n",
    "        print(f\"\\n=========== {p1Name.upper()} VS. {p2Name.upper()} ============\\n{gameTitleRules}\")\n",
    "\n",
    "## Start Multi-Player Game ---------------------------------------------------------------------------------\n",
    "def startGame_multiPlayers():\n",
    "    # Get Inputs\n",
    "    while True:\n",
    "        global p1Opt; p1Opt = input(\"{p1}, Rock, Paper, or Scissors? \".format(p1=p1Name.upper())).lower()\n",
    "        global p2Opt; p2Opt = input(\"{p2}, Rock, Paper, or Scissors? \".format(p2=p2Name.upper())).lower()\n",
    "\n",
    "        if p1Opt.lower() in answerCheckList and p2Opt.lower() in answerCheckList:\n",
    "            p1Opt = get_answer_key(p1Opt)\n",
    "            p2Opt = get_answer_key(p2Opt)\n",
    "            print(f\"\\n> {p1Name.upper()} chose {p1Opt} & {p2Name.upper()} chose {p2Opt} <!\")\n",
    "\n",
    "            result = outcomes.get(p1Opt).get(p2Opt)\n",
    "            if result == \"draw\":\n",
    "                print(\"\\nIt's a tie!!!\")\n",
    "            else:\n",
    "                print(\"\\n>> {p1} {result1}s, {p2} {result2}s! <<\".format(p1=p1Name.upper(), result1=outcomes.get(p1Opt).get(p2Opt), p2=p2Name.upper(), result2=outcomes.get(p2Opt).get(p1Opt)))\n",
    "            break\n",
    "        else:\n",
    "            print(\"Error: Enter Rock, Paper, or Scissors only!! Try Again!!\")\n",
    "            continue\n",
    "\n",
    "## Start Solo-Player Game ---------------------------------------------------------------------------------\n",
    "def startGame_soloPlayer():\n",
    "    while True:\n",
    "        import random\n",
    "        playerOpt = input(f\"{playerName.upper()}, Rock, Paper, or Scissors? \").lower()\n",
    "\n",
    "        if playerOpt.lower() in answerCheckList:\n",
    "            opts = list(acceptAnswers.keys())\n",
    "            playerOpt = get_answer_key(playerOpt)\n",
    "            computerOpt = random.choice(opts)\n",
    "            print(f\"{playerName.upper()}, You chose {playerOpt}, Computer chose {computerOpt}.\\n\")\n",
    "\n",
    "            result = outcomes.get(playerOpt).get(computerOpt)\n",
    "            if result == \"draw\":\n",
    "                print(\"\\nIt's a tie!!!\")\n",
    "            else:\n",
    "                print(\"{playerName} {result}s!\".format(playerName=playerName.upper(), result=outcomes.get(playerOpt).get(computerOpt)))\n",
    "            break\n",
    "        else:\n",
    "            print(\"Error: Enter Rock, Paper, or Scissors only!! Try Again!!\")\n",
    "            continue\n",
    "\n",
    "def check_urs_command():\n",
    "    import sys\n",
    "    while True:\n",
    "        global urs_command; urs_command = str(input(\"\\nWould you like to play again? (yes/no): \")).lower()\n",
    "        if urs_command == \"yes\" or urs_command == \"no\":\n",
    "            if urs_command == \"no\":\n",
    "                print(\"\"\"\n",
    "          //////////////////////\n",
    " ========///  !!END GAME!!  ///==========\n",
    "        //////////////////////\n",
    "\"\"\")\n",
    "                sys.exit()\n",
    "            else:\n",
    "                print(gameTitleRules)\n",
    "                break\n",
    "        else:\n",
    "            print(\"Error: Please only type \\\"yes\\\" or \\\"no\\\"!!\")\n",
    "            continue\n",
    "\n",
    "# =========== GAME ON ==================================================================================\n",
    "\n",
    "\n",
    "if __name__ == '__main__':\n",
    "    get_playerNumber()\n",
    "    get_users_info()\n",
    "    while True:\n",
    "        if playerNumber == 1:\n",
    "            startGame_soloPlayer()\n",
    "        else:\n",
    "            startGame_multiPlayers()\n",
    "        check_urs_command()\n",
    "        continue"
   ],
   "metadata": {
    "collapsed": false,
    "pycharm": {
     "name": "#%%\n"
    }
   }
  },
  {
   "cell_type": "code",
   "execution_count": null,
   "outputs": [],
   "source": [
    "## 8.3. Suggested Solution"
   ],
   "metadata": {
    "collapsed": false,
    "pycharm": {
     "name": "#%%\n"
    }
   }
  },
  {
   "cell_type": "markdown",
   "source": [
    "## 8.3. Suggested Solution"
   ],
   "metadata": {
    "collapsed": false,
    "pycharm": {
     "name": "#%% md\n"
    }
   }
  },
  {
   "cell_type": "markdown",
   "source": [
    "### 8.3.1. From practicepython.org"
   ],
   "metadata": {
    "collapsed": false,
    "pycharm": {
     "name": "#%% md\n"
    }
   }
  },
  {
   "cell_type": "code",
   "execution_count": 25,
   "outputs": [
    {
     "name": "stdout",
     "output_type": "stream",
     "text": [
      "Paper wins!\n"
     ]
    }
   ],
   "source": [
    "import sys\n",
    "\n",
    "user1 = input(\"What's your name?\")\n",
    "user2 = input(\"And your name?\")\n",
    "user1_answer = input(\"%s, do yo want to choose rock, paper or scissors?\" % user1)\n",
    "user2_answer = input(\"%s, do you want to choose rock, paper or scissors?\" % user2)\n",
    "\n",
    "def compare(u1, u2):\n",
    "    if u1 == u2:\n",
    "        return(\"It's a tie!\")\n",
    "    elif u1 == 'rock':\n",
    "        if u2 == 'scissors':\n",
    "            return(\"Rock wins!\")\n",
    "        else:\n",
    "            return(\"Paper wins!\")\n",
    "    elif u1 == 'scissors':\n",
    "        if u2 == 'paper':\n",
    "            return(\"Scissors win!\")\n",
    "        else:\n",
    "            return(\"Rock wins!\")\n",
    "    elif u1 == 'paper':\n",
    "        if u2 == 'rock':\n",
    "            return(\"Paper wins!\")\n",
    "        else:\n",
    "            return(\"Scissors win!\")\n",
    "    else:\n",
    "        return(\"Invalid input! You have not entered rock, paper or scissors, try again.\")\n",
    "        sys.exit()\n",
    "\n",
    "print(compare(user1_answer, user2_answer))"
   ],
   "metadata": {
    "collapsed": false,
    "pycharm": {
     "name": "#%%\n"
    }
   }
  },
  {
   "cell_type": "code",
   "execution_count": 26,
   "outputs": [
    {
     "name": "stdout",
     "output_type": "stream",
     "text": [
      "Please pick one:\n",
      "            rock\n",
      "            scissors\n",
      "            paper\n"
     ]
    },
    {
     "ename": "TypeError",
     "evalue": "unsupported operand type(s) for -: 'NoneType' and 'NoneType'",
     "output_type": "error",
     "traceback": [
      "\u001B[0;31m-----------------------------------------------------------\u001B[0m",
      "\u001B[0;31mTypeError\u001B[0m                 Traceback (most recent call last)",
      "\u001B[0;32m<ipython-input-26-782c04fb1a6b>\u001B[0m in \u001B[0;36m<module>\u001B[0;34m\u001B[0m\n\u001B[1;32m     10\u001B[0m     \u001B[0ma\u001B[0m \u001B[0;34m=\u001B[0m \u001B[0mgame_dict\u001B[0m\u001B[0;34m.\u001B[0m\u001B[0mget\u001B[0m\u001B[0;34m(\u001B[0m\u001B[0mplayer_a\u001B[0m\u001B[0;34m)\u001B[0m\u001B[0;34m\u001B[0m\u001B[0;34m\u001B[0m\u001B[0m\n\u001B[1;32m     11\u001B[0m     \u001B[0mb\u001B[0m \u001B[0;34m=\u001B[0m \u001B[0mgame_dict\u001B[0m\u001B[0;34m.\u001B[0m\u001B[0mget\u001B[0m\u001B[0;34m(\u001B[0m\u001B[0mplayer_b\u001B[0m\u001B[0;34m)\u001B[0m\u001B[0;34m\u001B[0m\u001B[0;34m\u001B[0m\u001B[0m\n\u001B[0;32m---> 12\u001B[0;31m     \u001B[0mdif\u001B[0m \u001B[0;34m=\u001B[0m \u001B[0ma\u001B[0m \u001B[0;34m-\u001B[0m \u001B[0mb\u001B[0m\u001B[0;34m\u001B[0m\u001B[0;34m\u001B[0m\u001B[0m\n\u001B[0m\u001B[1;32m     13\u001B[0m \u001B[0;34m\u001B[0m\u001B[0m\n\u001B[1;32m     14\u001B[0m     \u001B[0;32mif\u001B[0m \u001B[0mdif\u001B[0m \u001B[0;32min\u001B[0m \u001B[0;34m[\u001B[0m\u001B[0;34m-\u001B[0m\u001B[0;36m1\u001B[0m\u001B[0;34m,\u001B[0m \u001B[0;36m2\u001B[0m\u001B[0;34m]\u001B[0m\u001B[0;34m:\u001B[0m\u001B[0;34m\u001B[0m\u001B[0;34m\u001B[0m\u001B[0m\n",
      "\u001B[0;31mTypeError\u001B[0m: unsupported operand type(s) for -: 'NoneType' and 'NoneType'"
     ]
    }
   ],
   "source": [
    "print('''Please pick one:\n",
    "            rock\n",
    "            scissors\n",
    "            paper''')\n",
    "\n",
    "while True:\n",
    "    game_dict = {'rock': 1, 'scissors': 2, 'paper': 3}\n",
    "    player_a = str(input(\"Player a: \"))\n",
    "    player_b = str(input(\"Player b: \"))\n",
    "    a = game_dict.get(player_a)\n",
    "    b = game_dict.get(player_b)\n",
    "    dif = a - b\n",
    "\n",
    "    if dif in [-1, 2]:\n",
    "        print('player a wins.')\n",
    "        if str(input('Do you want to play another game, yes or no?\\n')) == 'yes':\n",
    "            continue\n",
    "        else:\n",
    "            print('game over.')\n",
    "            break\n",
    "    elif dif in [-2, 1]:\n",
    "        print('player b wins.')\n",
    "        if str(input('Do you want to play another game, yes or no?\\n')) == 'yes':\n",
    "            continue\n",
    "        else:\n",
    "            print('game over.')\n",
    "            break\n",
    "    else:\n",
    "        print('Draw.Please continue.')\n",
    "        print('')"
   ],
   "metadata": {
    "collapsed": false,
    "pycharm": {
     "name": "#%%\n"
    }
   }
  },
  {
   "cell_type": "markdown",
   "source": [
    "### 8.3.2. From RealPython"
   ],
   "metadata": {
    "collapsed": false,
    "pycharm": {
     "name": "#%% md\n"
    }
   }
  },
  {
   "cell_type": "code",
   "execution_count": 24,
   "outputs": [
    {
     "name": "stdout",
     "output_type": "stream",
     "text": [
      "\n",
      "You chose rock, computer chose rock.\n",
      "\n",
      "Both players selected rock. It's a tie!\n"
     ]
    }
   ],
   "source": [
    "import random\n",
    "\n",
    "user_action = input(\"Enter a choice (rock, paper, scissors): \")\n",
    "possible_actions = [\"rock\", \"paper\", \"scissors\"]\n",
    "computer_action = random.choice(possible_actions)\n",
    "print(f\"\\nYou chose {user_action}, computer chose {computer_action}.\\n\")\n",
    "\n",
    "if user_action == computer_action:\n",
    "    print(f\"Both players selected {user_action}. It's a tie!\")\n",
    "elif user_action == \"rock\":\n",
    "    if computer_action == \"scissors\":\n",
    "        print(\"Rock smashes scissors! You win!\")\n",
    "    else:\n",
    "        print(\"Paper covers rock! You lose.\")\n",
    "elif user_action == \"paper\":\n",
    "    if computer_action == \"rock\":\n",
    "        print(\"Paper covers rock! You win!\")\n",
    "    else:\n",
    "        print(\"Scissors cuts paper! You lose.\")\n",
    "elif user_action == \"scissors\":\n",
    "    if computer_action == \"paper\":\n",
    "        print(\"Scissors cuts paper! You win!\")\n",
    "    else:\n",
    "        print(\"Rock smashes scissors! You lose.\")"
   ],
   "metadata": {
    "collapsed": false,
    "pycharm": {
     "name": "#%%\n"
    }
   }
  }
 ],
 "metadata": {
  "kernelspec": {
   "display_name": "Python 3",
   "language": "python",
   "name": "python3"
  },
  "language_info": {
   "codemirror_mode": {
    "name": "ipython",
    "version": 2
   },
   "file_extension": ".py",
   "mimetype": "text/x-python",
   "name": "python",
   "nbconvert_exporter": "python",
   "pygments_lexer": "ipython2",
   "version": "2.7.6"
  }
 },
 "nbformat": 4,
 "nbformat_minor": 0
}